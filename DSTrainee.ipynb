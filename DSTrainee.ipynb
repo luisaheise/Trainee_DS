{
  "nbformat": 4,
  "nbformat_minor": 0,
  "metadata": {
    "colab": {
      "name": "DSTrainee.ipynb",
      "provenance": [],
      "authorship_tag": "ABX9TyPgcjogP3rH0o/RV6gmCj9i",
      "include_colab_link": true
    },
    "kernelspec": {
      "name": "python3",
      "display_name": "Python 3"
    }
  },
  "cells": [
    {
      "cell_type": "markdown",
      "metadata": {
        "id": "view-in-github",
        "colab_type": "text"
      },
      "source": [
        "<a href=\"https://colab.research.google.com/github/luisaheise/Trainee_DS/blob/master/DSTrainee.ipynb\" target=\"_parent\"><img src=\"https://colab.research.google.com/assets/colab-badge.svg\" alt=\"Open In Colab\"/></a>"
      ]
    },
    {
      "cell_type": "markdown",
      "metadata": {
        "id": "LdSfXn0ILM_Z",
        "colab_type": "text"
      },
      "source": [
        "## Web Scrapping"
      ]
    },
    {
      "cell_type": "markdown",
      "metadata": {
        "id": "317hb3-2iO-L",
        "colab_type": "text"
      },
      "source": [
        "Como primeira etapa, foi feita a extração dos dados dos dados so site https://scrapethissite.com/pages/forms/?.\n",
        "Entrando no site é possível perceber que ele dispõe de paginação, mais precisamente, são 24 páginas contendo os dados em questão. \n",
        "Dessa forma, foram feitos multiplas requisições alterando na query do endereço a página desejada."
      ]
    },
    {
      "cell_type": "code",
      "metadata": {
        "id": "XDn0enylLdys",
        "colab_type": "code",
        "colab": {}
      },
      "source": [
        "from bs4 import BeautifulSoup\n",
        "import requests\n",
        "import pandas as pd"
      ],
      "execution_count": 1,
      "outputs": []
    },
    {
      "cell_type": "code",
      "metadata": {
        "id": "OH66WONsK9Kl",
        "colab_type": "code",
        "colab": {}
      },
      "source": [
        "URL = 'https://scrapethissite.com/pages/forms/?'"
      ],
      "execution_count": 2,
      "outputs": []
    },
    {
      "cell_type": "code",
      "metadata": {
        "id": "76S9sWyBLopK",
        "colab_type": "code",
        "colab": {}
      },
      "source": [
        "def get_raw_site(URL):\n",
        "  \"\"\"\n",
        "  Retorna um objeto 'soup' de uma página web\n",
        "\n",
        "  Keyword arguments:\n",
        "    - URL: string contendo a url do site\n",
        "\n",
        "  Outputs:\n",
        "    - soup: objeto soup referente à página web\n",
        "  \"\"\"\n",
        "  raw_site = requests.get(URL)\n",
        "  status = raw_site.status_code\n",
        "  assert  status == 200, f\"Não foi possível estabelecer o site: status {status}\"\n",
        "  soup = BeautifulSoup(raw_site.text, 'html.parser')\n",
        "  return soup"
      ],
      "execution_count": 3,
      "outputs": []
    },
    {
      "cell_type": "code",
      "metadata": {
        "id": "pEH6lKq9OETC",
        "colab_type": "code",
        "colab": {}
      },
      "source": [
        "def soup_to_df(soup):\n",
        "  \"\"\"\n",
        "  Extrai a tabela do objeto soup, transformando-a em um Data Frame do pandas\n",
        "\n",
        "  Keyword arguments:\n",
        "    - soup: objeto soup referente à página web\n",
        "\n",
        "  Outputs:\n",
        "    - df: Data Frame contendo a tabela extraída do objeto soup\n",
        "  \"\"\"\n",
        "  table = soup.find('table')\n",
        "  titles = table.find_all('th')\n",
        "  titles = [title.text.strip() for title in titles]\n",
        "  table_rows = table.find_all('tr')\n",
        "  lines = []\n",
        "  for tr in table_rows:\n",
        "    td = tr.find_all('td')\n",
        "    row = [tr.text.strip() for tr in td] \n",
        "    if not(all(t == None for t in row)): \n",
        "      lines.append(row)\n",
        "  df = pd.DataFrame(lines, columns=titles)\n",
        "  return df"
      ],
      "execution_count": 5,
      "outputs": []
    },
    {
      "cell_type": "markdown",
      "metadata": {
        "id": "7v3V-KX7jm59",
        "colab_type": "text"
      },
      "source": [
        "Utilizando as funções acima, foi extraído o data frame que contem os dados de interesse."
      ]
    },
    {
      "cell_type": "code",
      "metadata": {
        "id": "QS3_03B8az9I",
        "colab_type": "code",
        "colab": {}
      },
      "source": [
        "hockey_df = pd.DataFrame()\n",
        "for i in range(1,25):\n",
        "  url = f\"{URL}page_num={i}\"\n",
        "  raw_site = get_raw_site(url)\n",
        "  interm = soup_to_df(raw_site)\n",
        "  hockey_df = hockey_df.append(interm)"
      ],
      "execution_count": 6,
      "outputs": []
    },
    {
      "cell_type": "markdown",
      "metadata": {
        "id": "vv0fGs5abZm3",
        "colab_type": "text"
      },
      "source": [
        "## Análise e Visualização de Dados"
      ]
    },
    {
      "cell_type": "markdown",
      "metadata": {
        "id": "kWkOWU7Ej3i_",
        "colab_type": "text"
      },
      "source": [
        "Os dados extraídos na etapa anterior\n"
      ]
    },
    {
      "cell_type": "code",
      "metadata": {
        "id": "BnrzyZ1KXLLz",
        "colab_type": "code",
        "colab": {
          "base_uri": "https://localhost:8080/",
          "height": 204
        },
        "outputId": "846911d8-5fc9-4bde-bdd3-7629b6ddbc94"
      },
      "source": [
        "hockey_df.to_csv(\"hockey.csv\")\n",
        "hockey_df.head()"
      ],
      "execution_count": 7,
      "outputs": [
        {
          "output_type": "execute_result",
          "data": {
            "text/html": [
              "<div>\n",
              "<style scoped>\n",
              "    .dataframe tbody tr th:only-of-type {\n",
              "        vertical-align: middle;\n",
              "    }\n",
              "\n",
              "    .dataframe tbody tr th {\n",
              "        vertical-align: top;\n",
              "    }\n",
              "\n",
              "    .dataframe thead th {\n",
              "        text-align: right;\n",
              "    }\n",
              "</style>\n",
              "<table border=\"1\" class=\"dataframe\">\n",
              "  <thead>\n",
              "    <tr style=\"text-align: right;\">\n",
              "      <th></th>\n",
              "      <th>Team Name</th>\n",
              "      <th>Year</th>\n",
              "      <th>Wins</th>\n",
              "      <th>Losses</th>\n",
              "      <th>OT Losses</th>\n",
              "      <th>Win %</th>\n",
              "      <th>Goals For (GF)</th>\n",
              "      <th>Goals Against (GA)</th>\n",
              "      <th>+ / -</th>\n",
              "    </tr>\n",
              "  </thead>\n",
              "  <tbody>\n",
              "    <tr>\n",
              "      <th>0</th>\n",
              "      <td>Boston Bruins</td>\n",
              "      <td>1990</td>\n",
              "      <td>44</td>\n",
              "      <td>24</td>\n",
              "      <td></td>\n",
              "      <td>0.55</td>\n",
              "      <td>299</td>\n",
              "      <td>264</td>\n",
              "      <td>35</td>\n",
              "    </tr>\n",
              "    <tr>\n",
              "      <th>1</th>\n",
              "      <td>Buffalo Sabres</td>\n",
              "      <td>1990</td>\n",
              "      <td>31</td>\n",
              "      <td>30</td>\n",
              "      <td></td>\n",
              "      <td>0.388</td>\n",
              "      <td>292</td>\n",
              "      <td>278</td>\n",
              "      <td>14</td>\n",
              "    </tr>\n",
              "    <tr>\n",
              "      <th>2</th>\n",
              "      <td>Calgary Flames</td>\n",
              "      <td>1990</td>\n",
              "      <td>46</td>\n",
              "      <td>26</td>\n",
              "      <td></td>\n",
              "      <td>0.575</td>\n",
              "      <td>344</td>\n",
              "      <td>263</td>\n",
              "      <td>81</td>\n",
              "    </tr>\n",
              "    <tr>\n",
              "      <th>3</th>\n",
              "      <td>Chicago Blackhawks</td>\n",
              "      <td>1990</td>\n",
              "      <td>49</td>\n",
              "      <td>23</td>\n",
              "      <td></td>\n",
              "      <td>0.613</td>\n",
              "      <td>284</td>\n",
              "      <td>211</td>\n",
              "      <td>73</td>\n",
              "    </tr>\n",
              "    <tr>\n",
              "      <th>4</th>\n",
              "      <td>Detroit Red Wings</td>\n",
              "      <td>1990</td>\n",
              "      <td>34</td>\n",
              "      <td>38</td>\n",
              "      <td></td>\n",
              "      <td>0.425</td>\n",
              "      <td>273</td>\n",
              "      <td>298</td>\n",
              "      <td>-25</td>\n",
              "    </tr>\n",
              "  </tbody>\n",
              "</table>\n",
              "</div>"
            ],
            "text/plain": [
              "            Team Name  Year Wins  ... Goals For (GF) Goals Against (GA) + / -\n",
              "0       Boston Bruins  1990   44  ...            299                264    35\n",
              "1      Buffalo Sabres  1990   31  ...            292                278    14\n",
              "2      Calgary Flames  1990   46  ...            344                263    81\n",
              "3  Chicago Blackhawks  1990   49  ...            284                211    73\n",
              "4   Detroit Red Wings  1990   34  ...            273                298   -25\n",
              "\n",
              "[5 rows x 9 columns]"
            ]
          },
          "metadata": {
            "tags": []
          },
          "execution_count": 7
        }
      ]
    },
    {
      "cell_type": "code",
      "metadata": {
        "id": "3oymaHH5g_-q",
        "colab_type": "code",
        "colab": {
          "base_uri": "https://localhost:8080/",
          "height": 289
        },
        "outputId": "0c8450ce-bd8c-43c4-942c-3ecc0454e04f"
      },
      "source": [
        "hockey_df.info()"
      ],
      "execution_count": 8,
      "outputs": [
        {
          "output_type": "stream",
          "text": [
            "<class 'pandas.core.frame.DataFrame'>\n",
            "Int64Index: 582 entries, 0 to 6\n",
            "Data columns (total 9 columns):\n",
            " #   Column              Non-Null Count  Dtype \n",
            "---  ------              --------------  ----- \n",
            " 0   Team Name           582 non-null    object\n",
            " 1   Year                582 non-null    object\n",
            " 2   Wins                582 non-null    object\n",
            " 3   Losses              582 non-null    object\n",
            " 4   OT Losses           582 non-null    object\n",
            " 5   Win %               582 non-null    object\n",
            " 6   Goals For (GF)      582 non-null    object\n",
            " 7   Goals Against (GA)  582 non-null    object\n",
            " 8   + / -               582 non-null    object\n",
            "dtypes: object(9)\n",
            "memory usage: 45.5+ KB\n"
          ],
          "name": "stdout"
        }
      ]
    },
    {
      "cell_type": "markdown",
      "metadata": {
        "id": "qiqL_iwIkAfA",
        "colab_type": "text"
      },
      "source": [
        "Como pode ser visto, os dtypes estão incorretos. Arrumando isso:"
      ]
    },
    {
      "cell_type": "code",
      "metadata": {
        "id": "x0FoFfBlhZwh",
        "colab_type": "code",
        "colab": {}
      },
      "source": [
        "hockey_df = hockey_df.astype({\"Year\": int, \"Wins\": int, \"Losses\": int, \"Win %\": float, \"Goals For (GF)\": int, \"Goals Against (GA)\": int, \"+ / -\": int})"
      ],
      "execution_count": 9,
      "outputs": []
    },
    {
      "cell_type": "code",
      "metadata": {
        "id": "80CcqzWdiNrO",
        "colab_type": "code",
        "colab": {
          "base_uri": "https://localhost:8080/",
          "height": 289
        },
        "outputId": "0d26d6d9-ad78-4a80-8a38-1aef053d3454"
      },
      "source": [
        "hockey_df.info()"
      ],
      "execution_count": 10,
      "outputs": [
        {
          "output_type": "stream",
          "text": [
            "<class 'pandas.core.frame.DataFrame'>\n",
            "Int64Index: 582 entries, 0 to 6\n",
            "Data columns (total 9 columns):\n",
            " #   Column              Non-Null Count  Dtype  \n",
            "---  ------              --------------  -----  \n",
            " 0   Team Name           582 non-null    object \n",
            " 1   Year                582 non-null    int64  \n",
            " 2   Wins                582 non-null    int64  \n",
            " 3   Losses              582 non-null    int64  \n",
            " 4   OT Losses           582 non-null    object \n",
            " 5   Win %               582 non-null    float64\n",
            " 6   Goals For (GF)      582 non-null    int64  \n",
            " 7   Goals Against (GA)  582 non-null    int64  \n",
            " 8   + / -               582 non-null    int64  \n",
            "dtypes: float64(1), int64(6), object(2)\n",
            "memory usage: 45.5+ KB\n"
          ],
          "name": "stdout"
        }
      ]
    },
    {
      "cell_type": "markdown",
      "metadata": {
        "id": "dNBjcSnikFwT",
        "colab_type": "text"
      },
      "source": [
        "Pronto, agora está certo"
      ]
    },
    {
      "cell_type": "markdown",
      "metadata": {
        "id": "XdhiDtzZkJkT",
        "colab_type": "text"
      },
      "source": [
        "Importando os dados fornecidos"
      ]
    },
    {
      "cell_type": "code",
      "metadata": {
        "id": "5b08aMVkdT8G",
        "colab_type": "code",
        "colab": {}
      },
      "source": [
        "espn = pd.read_csv(r\"DataSet ESPN.csv\")"
      ],
      "execution_count": 11,
      "outputs": []
    },
    {
      "cell_type": "code",
      "metadata": {
        "id": "6L_dYVF2g-kB",
        "colab_type": "code",
        "colab": {
          "base_uri": "https://localhost:8080/",
          "height": 357
        },
        "outputId": "c90f0c3d-6ed3-4a32-d0fb-19702ef065ac"
      },
      "source": [
        "espn.info()"
      ],
      "execution_count": 12,
      "outputs": [
        {
          "output_type": "stream",
          "text": [
            "<class 'pandas.core.frame.DataFrame'>\n",
            "RangeIndex: 290 entries, 0 to 289\n",
            "Data columns (total 13 columns):\n",
            " #   Column                   Non-Null Count  Dtype  \n",
            "---  ------                   --------------  -----  \n",
            " 0   Unnamed: 0               290 non-null    int64  \n",
            " 1   Team                     290 non-null    object \n",
            " 2   Home Games               290 non-null    int64  \n",
            " 3   Home Total               290 non-null    object \n",
            " 4   Home Average             290 non-null    object \n",
            " 5   Road Games               290 non-null    int64  \n",
            " 6   Road Average             290 non-null    object \n",
            " 7   Overall Games            290 non-null    int64  \n",
            " 8   Overall Average          290 non-null    object \n",
            " 9   Year                     290 non-null    int64  \n",
            " 10  Save Percentage          290 non-null    float64\n",
            " 11  Penalty Minutes          290 non-null    int64  \n",
            " 12  Penalty Minutes Against  290 non-null    int64  \n",
            "dtypes: float64(1), int64(7), object(5)\n",
            "memory usage: 29.6+ KB\n"
          ],
          "name": "stdout"
        }
      ]
    },
    {
      "cell_type": "code",
      "metadata": {
        "id": "hLt19jyYxPfX",
        "colab_type": "code",
        "colab": {
          "base_uri": "https://localhost:8080/",
          "height": 289
        },
        "outputId": "bb8f05f1-2243-44b7-db41-bd7c52dcb5ff"
      },
      "source": [
        "espn.head()"
      ],
      "execution_count": 13,
      "outputs": [
        {
          "output_type": "execute_result",
          "data": {
            "text/html": [
              "<div>\n",
              "<style scoped>\n",
              "    .dataframe tbody tr th:only-of-type {\n",
              "        vertical-align: middle;\n",
              "    }\n",
              "\n",
              "    .dataframe tbody tr th {\n",
              "        vertical-align: top;\n",
              "    }\n",
              "\n",
              "    .dataframe thead th {\n",
              "        text-align: right;\n",
              "    }\n",
              "</style>\n",
              "<table border=\"1\" class=\"dataframe\">\n",
              "  <thead>\n",
              "    <tr style=\"text-align: right;\">\n",
              "      <th></th>\n",
              "      <th>Unnamed: 0</th>\n",
              "      <th>Team</th>\n",
              "      <th>Home Games</th>\n",
              "      <th>Home Total</th>\n",
              "      <th>Home Average</th>\n",
              "      <th>Road Games</th>\n",
              "      <th>Road Average</th>\n",
              "      <th>Overall Games</th>\n",
              "      <th>Overall Average</th>\n",
              "      <th>Year</th>\n",
              "      <th>Save Percentage</th>\n",
              "      <th>Penalty Minutes</th>\n",
              "      <th>Penalty Minutes Against</th>\n",
              "    </tr>\n",
              "  </thead>\n",
              "  <tbody>\n",
              "    <tr>\n",
              "      <th>0</th>\n",
              "      <td>0</td>\n",
              "      <td>Montreal Canadiens</td>\n",
              "      <td>41</td>\n",
              "      <td>824,308</td>\n",
              "      <td>20,105</td>\n",
              "      <td>41</td>\n",
              "      <td>16,013</td>\n",
              "      <td>82</td>\n",
              "      <td>18,059</td>\n",
              "      <td>2001</td>\n",
              "      <td>0.899</td>\n",
              "      <td>1020</td>\n",
              "      <td>1294</td>\n",
              "    </tr>\n",
              "    <tr>\n",
              "      <th>1</th>\n",
              "      <td>1</td>\n",
              "      <td>Detroit Red Wings</td>\n",
              "      <td>41</td>\n",
              "      <td>819,795</td>\n",
              "      <td>19,995</td>\n",
              "      <td>41</td>\n",
              "      <td>17,889</td>\n",
              "      <td>82</td>\n",
              "      <td>18,942</td>\n",
              "      <td>2001</td>\n",
              "      <td>0.909</td>\n",
              "      <td>1082</td>\n",
              "      <td>1072</td>\n",
              "    </tr>\n",
              "    <tr>\n",
              "      <th>2</th>\n",
              "      <td>2</td>\n",
              "      <td>Philadelphia Flyers</td>\n",
              "      <td>41</td>\n",
              "      <td>802,595</td>\n",
              "      <td>19,575</td>\n",
              "      <td>41</td>\n",
              "      <td>17,182</td>\n",
              "      <td>82</td>\n",
              "      <td>18,378</td>\n",
              "      <td>2001</td>\n",
              "      <td>0.903</td>\n",
              "      <td>1183</td>\n",
              "      <td>1332</td>\n",
              "    </tr>\n",
              "    <tr>\n",
              "      <th>3</th>\n",
              "      <td>3</td>\n",
              "      <td>St Louis Blues</td>\n",
              "      <td>41</td>\n",
              "      <td>800,319</td>\n",
              "      <td>19,519</td>\n",
              "      <td>41</td>\n",
              "      <td>16,898</td>\n",
              "      <td>82</td>\n",
              "      <td>18,209</td>\n",
              "      <td>2001</td>\n",
              "      <td>0.899</td>\n",
              "      <td>1345</td>\n",
              "      <td>1366</td>\n",
              "    </tr>\n",
              "    <tr>\n",
              "      <th>4</th>\n",
              "      <td>4</td>\n",
              "      <td>Toronto Maple Leafs</td>\n",
              "      <td>41</td>\n",
              "      <td>789,567</td>\n",
              "      <td>19,257</td>\n",
              "      <td>41</td>\n",
              "      <td>17,172</td>\n",
              "      <td>82</td>\n",
              "      <td>18,215</td>\n",
              "      <td>2001</td>\n",
              "      <td>0.908</td>\n",
              "      <td>1430</td>\n",
              "      <td>1243</td>\n",
              "    </tr>\n",
              "  </tbody>\n",
              "</table>\n",
              "</div>"
            ],
            "text/plain": [
              "   Unnamed: 0                 Team  ...  Penalty Minutes Penalty Minutes Against\n",
              "0           0   Montreal Canadiens  ...             1020                    1294\n",
              "1           1    Detroit Red Wings  ...             1082                    1072\n",
              "2           2  Philadelphia Flyers  ...             1183                    1332\n",
              "3           3       St Louis Blues  ...             1345                    1366\n",
              "4           4  Toronto Maple Leafs  ...             1430                    1243\n",
              "\n",
              "[5 rows x 13 columns]"
            ]
          },
          "metadata": {
            "tags": []
          },
          "execution_count": 13
        }
      ]
    },
    {
      "cell_type": "markdown",
      "metadata": {
        "id": "qScMBHZ00w2i",
        "colab_type": "text"
      },
      "source": [
        "Alguns valores numericos estão com o separador de milhar como vírgula. Vamos arrumar isso:"
      ]
    },
    {
      "cell_type": "code",
      "metadata": {
        "id": "_ySArkVdw4WF",
        "colab_type": "code",
        "colab": {}
      },
      "source": [
        "def arrumar_sep_milhar(series, column_prob):\n",
        "  if series.name in column_prob:\n",
        "    if series.dtype == 'object':\n",
        "      series = series.replace(regex={r',': ''})\n",
        "    series = pd.to_numeric(series, errors='coerce')\n",
        "  return series"
      ],
      "execution_count": 14,
      "outputs": []
    },
    {
      "cell_type": "code",
      "metadata": {
        "id": "UwqikYLIyhfV",
        "colab_type": "code",
        "colab": {}
      },
      "source": [
        "column_prob= ['Home Total', 'Home Average', 'Road Average', 'Overall Average']\n",
        "espn = espn.apply(lambda x: arrumar_sep_milhar(x, column_prob))"
      ],
      "execution_count": 16,
      "outputs": []
    },
    {
      "cell_type": "markdown",
      "metadata": {
        "id": "HfRptB-jkQUH",
        "colab_type": "text"
      },
      "source": [
        "Como pode ser visto, as colunas \"chaves\", ou seja, aquelas que servem de referência para o merge entre o dataset fornecido e o extraído são 'Year' e 'Team'.\n",
        "Fazendo esse merge, temos:"
      ]
    },
    {
      "cell_type": "code",
      "metadata": {
        "id": "bWbpLMuogRpK",
        "colab_type": "code",
        "colab": {}
      },
      "source": [
        "espn['id'] = espn.apply(lambda x: str(x['Team']) + str(x['Year']), axis = 1)\n",
        "hockey_df['id'] = hockey_df.apply(lambda x: str(x['Team Name']) + str(x['Year']), axis = 1)"
      ],
      "execution_count": 17,
      "outputs": []
    },
    {
      "cell_type": "code",
      "metadata": {
        "id": "_KQ0KI-nfGrm",
        "colab_type": "code",
        "colab": {}
      },
      "source": [
        "hockey_completo = hockey_df.set_index('id').combine_first(espn.set_index('id')).reset_index()"
      ],
      "execution_count": 18,
      "outputs": []
    },
    {
      "cell_type": "code",
      "metadata": {
        "id": "ZNFV-6Hrg8EE",
        "colab_type": "code",
        "colab": {
          "base_uri": "https://localhost:8080/",
          "height": 510
        },
        "outputId": "914a5e65-19c2-4041-e577-98507ff1e2c7"
      },
      "source": [
        "hockey_completo.info()"
      ],
      "execution_count": 19,
      "outputs": [
        {
          "output_type": "stream",
          "text": [
            "<class 'pandas.core.frame.DataFrame'>\n",
            "RangeIndex: 635 entries, 0 to 634\n",
            "Data columns (total 22 columns):\n",
            " #   Column                   Non-Null Count  Dtype  \n",
            "---  ------                   --------------  -----  \n",
            " 0   id                       635 non-null    object \n",
            " 1   + / -                    582 non-null    float64\n",
            " 2   Goals Against (GA)       582 non-null    float64\n",
            " 3   Goals For (GF)           582 non-null    float64\n",
            " 4   Home Average             290 non-null    float64\n",
            " 5   Home Games               290 non-null    float64\n",
            " 6   Home Total               290 non-null    float64\n",
            " 7   Losses                   582 non-null    float64\n",
            " 8   OT Losses                582 non-null    object \n",
            " 9   Overall Average          290 non-null    float64\n",
            " 10  Overall Games            290 non-null    float64\n",
            " 11  Penalty Minutes          290 non-null    float64\n",
            " 12  Penalty Minutes Against  290 non-null    float64\n",
            " 13  Road Average             290 non-null    float64\n",
            " 14  Road Games               290 non-null    float64\n",
            " 15  Save Percentage          290 non-null    float64\n",
            " 16  Team                     290 non-null    object \n",
            " 17  Team Name                582 non-null    object \n",
            " 18  Unnamed: 0               290 non-null    float64\n",
            " 19  Win %                    582 non-null    float64\n",
            " 20  Wins                     582 non-null    float64\n",
            " 21  Year                     635 non-null    float64\n",
            "dtypes: float64(18), object(4)\n",
            "memory usage: 109.3+ KB\n"
          ],
          "name": "stdout"
        }
      ]
    },
    {
      "cell_type": "markdown",
      "metadata": {
        "id": "Lu1OfP99kl9G",
        "colab_type": "text"
      },
      "source": [
        "Agora que o dataset está completo, podemos começar a análise, vamos importar outras bibliotecas necessárias:"
      ]
    },
    {
      "cell_type": "code",
      "metadata": {
        "id": "nAUkGtuTmZEu",
        "colab_type": "code",
        "colab": {
          "base_uri": "https://localhost:8080/",
          "height": 71
        },
        "outputId": "c7cb7c90-f463-4381-a7db-1e3f233375c1"
      },
      "source": [
        "from scipy import stats\n",
        "import statsmodels.api as sm\n",
        "import numpy as np\n",
        "import matplotlib as plt\n",
        "import seaborn as sns\n",
        "import statsmodels.api as sm\n",
        "from statsmodels.formula.api import ols"
      ],
      "execution_count": 20,
      "outputs": [
        {
          "output_type": "stream",
          "text": [
            "/usr/local/lib/python3.6/dist-packages/statsmodels/tools/_testing.py:19: FutureWarning: pandas.util.testing is deprecated. Use the functions in the public API at pandas.testing instead.\n",
            "  import pandas.util.testing as tm\n"
          ],
          "name": "stderr"
        }
      ]
    },
    {
      "cell_type": "markdown",
      "metadata": {
        "id": "FQZFayjjktxz",
        "colab_type": "text"
      },
      "source": [
        "Vamos começar com uma função ṕara simplificar as nossas análises univariadas. <br>\n",
        "Uma coisa que pode ser verificada já de início é que as nossas features não são linearmente independentes, isso é claro, pois porcentagem de vitória pode ser obtida com derrotas, jogos fora de casa e jogos em casa, por exemplo."
      ]
    },
    {
      "cell_type": "code",
      "metadata": {
        "id": "BVuRhp6slAb6",
        "colab_type": "code",
        "colab": {}
      },
      "source": [
        "def univariada(series):\n",
        "  \"\"\"\n",
        "  Calcula medidas descritivas e mostra a distribuição dos dados\n",
        "\n",
        "  Keyword arguments:\n",
        "    - series: coluna de um Dataframe\n",
        "  \"\"\" \n",
        "  if np.issubdtype(series.dtype, np.number):\n",
        "    series_df = series\n",
        "    series = np.array(series.dropna())\n",
        "    nobs, minmax, media, variancia_amostral, assimetria_enviesada, curtose_enviesada   = stats.describe(series)\n",
        "    curtose_amostral = stats.kurtosis(series, bias=False)\n",
        "    assimetria_amostral = stats.skew(series, bias=False)\n",
        "    normalizado = (series - media)/(variancia_amostral**0.5)\n",
        "    _, pvalue_normal = stats.kstest(normalizado, 'norm')\n",
        "    p25, p50, p75, p90 = np.percentile(series, 25), np.percentile(series, 50), np.percentile(series, 75), np.percentile(series, 90)\n",
        "    print(\"Resumo:\")\n",
        "    print(f\"Número de observações não nulas: {nobs} | Média: {media} | Desvio Padrão: {variancia_amostral**0.5} | Assimetria: {assimetria_amostral} | Curtose: {curtose_amostral}\")\n",
        "    print(f\"Mínimo: {minmax[0]} | Primeiro Quartil: {p25} | Mediana: {p50} | Terceiro Quartil: {p75} | Percentil 90: {p90} | Máximo: {minmax[1]}\")\n",
        "    if pvalue_normal < 0.05:\n",
        "     print(\"H0 rejeitado: há evidência de que a distribuição não é normal\")\n",
        "    else:\n",
        "      print(\"H0 não rejeitado: Não há evidência de que a distribuição não seja normal - vamos considerar normal\")\n",
        "    print(f\"P-valor do teste de Kolmogorov–Smirnov: {pvalue_normal}\")\n",
        "    ax = sns.distplot(series_df)\n",
        "    ax.set_title(f\"Distribuição: {series_df.name}\")\n",
        "  else:\n",
        "    nobs = series.count()\n",
        "    min = series.min()\n",
        "    max = series.max()\n",
        "    plt.hist(series)\n",
        "    plt.title(f\"Histograma: {series.name}\")"
      ],
      "execution_count": 21,
      "outputs": []
    },
    {
      "cell_type": "markdown",
      "metadata": {
        "id": "F8-Lt-sl3qGU",
        "colab_type": "text"
      },
      "source": [
        "#### Avaliando os Gols Tomados e Feitos"
      ]
    },
    {
      "cell_type": "code",
      "metadata": {
        "id": "JGXdmmGUtACf",
        "colab_type": "code",
        "colab": {
          "base_uri": "https://localhost:8080/",
          "height": 380
        },
        "outputId": "0293174e-ee5e-4acc-af07-c040c12f96d6"
      },
      "source": [
        "univariada(hockey_completo['Goals Against (GA)'])"
      ],
      "execution_count": 22,
      "outputs": [
        {
          "output_type": "stream",
          "text": [
            "Resumo:\n",
            "Número de observações não nulas: 582 | Média: 234.06357388316152 | Desvio Padrão: 42.510718457384776 | Assimetria: 0.3213196867747559 | Curtose: 1.2641218652425978\n",
            "Mínimo: 115.0 | Primeiro Quartil: 207.0 | Mediana: 232.5 | Terceiro Quartil: 258.75 | Percentil 90: 286.0 | Máximo: 414.0\n",
            "H0 não rejeitado: Não há evidência de que a distribuição não seja normal - vamos considerar normal\n",
            "P-valor do teste de Kolmogorov–Smirnov: 0.24642778188019815\n"
          ],
          "name": "stdout"
        },
        {
          "output_type": "display_data",
          "data": {
            "image/png": "[encoded data removed]",
            "text/plain": [
              "<Figure size 432x288 with 1 Axes>"
            ]
          },
          "metadata": {
            "tags": [],
            "needs_background": "light"
          }
        }
      ]
    },
    {
      "cell_type": "code",
      "metadata": {
        "colab_type": "code",
        "id": "egIQqR2EuJfQ",
        "colab": {
          "base_uri": "https://localhost:8080/",
          "height": 380
        },
        "outputId": "12b1e13e-a31f-46ad-f70c-622c37974c1b"
      },
      "source": [
        "univariada(hockey_completo['Goals For (GF)'])"
      ],
      "execution_count": 23,
      "outputs": [
        {
          "output_type": "stream",
          "text": [
            "Resumo:\n",
            "Número de observações não nulas: 582 | Média: 234.06357388316152 | Desvio Padrão: 40.548915399123885 | Assimetria: 0.2488055599817491 | Curtose: 1.153962538877371\n",
            "Mínimo: 115.0 | Primeiro Quartil: 211.0 | Mediana: 231.0 | Terceiro Quartil: 254.0 | Percentil 90: 282.9 | Máximo: 369.0\n",
            "H0 rejeitado: há evidência de que a distribuição não é normal\n",
            "P-valor do teste de Kolmogorov–Smirnov: 0.006779616709723314\n"
          ],
          "name": "stdout"
        },
        {
          "output_type": "display_data",
          "data": {
            "image/png": "[encoded data removed]",
            "text/plain": [
              "<Figure size 432x288 with 1 Axes>"
            ]
          },
          "metadata": {
            "tags": [],
            "needs_background": "light"
          }
        }
      ]
    },
    {
      "cell_type": "markdown",
      "metadata": {
        "id": "tT5ZxU_-4NTG",
        "colab_type": "text"
      },
      "source": [
        "Como esperado, as médias dos gols feitos e dos gols tomados são iguais: todo o gol marcado por um time foi tomado por outro + o denominador é o mesmo (no de observações). <br> \n",
        "As outras métricas não são iguais. Em especial se verifica que:\n",
        "  - O que mais parece saltar aos olhos é que a distribuição de gols feitos não parece ser normal (com p-valor < 1% 😮)\n",
        "  - A distribuição dos gols feitos (GF) tem \"cauda longa\" quando comparada com os gols tomados (GA). \"Cauda longa\" é algo que se mostra comum em distribuições com desigualdades mais importantes. **Isso parece indicar que poucos times/temporada concentram a muitos dos gols**. (Exemplificando isso: distribuição de altura (normal) vs distribuição de livros vendidos por autor (cauda longa) (poucos autores concentram a maior parte das vendas de livros)). \n",
        "  - As duas distribuições são assimétricas para a esquerda (mediana menor que a média). Uma coisa interessante de se perceber é que a distribuição de gols feitos (GF) é menos assimétrica do que a de gols tomados (GA) (0.24 vs 0.32). Isso poderia ser explicado pelo fato de GF ter uma \"cauda gorda\" na direita (que ajuda a compensar a assimetria) - efeito direto da \"desigualdade\" comentada antes.  \n",
        "<br>\n",
        "Vamos fazer uma análise apenas por time ao invés de time/temporada e ver o que conseguimos descobrir..."
      ]
    },
    {
      "cell_type": "code",
      "metadata": {
        "id": "1BGVVyFd9kr6",
        "colab_type": "code",
        "colab": {}
      },
      "source": [
        "times = hockey_completo.drop(columns=['Team Name'])\n",
        "times = times.groupby(['Team']).mean()"
      ],
      "execution_count": 24,
      "outputs": []
    },
    {
      "cell_type": "code",
      "metadata": {
        "id": "LUtVp0FO-TA1",
        "colab_type": "code",
        "colab": {
          "base_uri": "https://localhost:8080/",
          "height": 400
        },
        "outputId": "b6fd0679-49ce-4696-9c9d-27bb07448896"
      },
      "source": [
        "univariada(times['Goals Against (GA)'])"
      ],
      "execution_count": 25,
      "outputs": [
        {
          "output_type": "stream",
          "text": [
            "Resumo:\n",
            "Número de observações não nulas: 27 | Média: 225.2469135802469 | Desvio Padrão: 14.887560003629375 | Assimetria: -0.2793821227773841 | Curtose: -0.572176741146083\n",
            "Mínimo: 192.55555555555554 | Primeiro Quartil: 215.8888888888889 | Mediana: 224.22222222222223 | Terceiro Quartil: 237.05555555555554 | Percentil 90: 245.24444444444447 | Máximo: 248.0\n",
            "H0 não rejeitado: Não há evidência de que a distribuição não seja normal - vamos considerar normal\n",
            "P-valor do teste de Kolmogorov–Smirnov: 0.9718301042828155\n"
          ],
          "name": "stdout"
        },
        {
          "output_type": "display_data",
          "data": {
            "image/png": "[encoded data removed]",
            "text/plain": [
              "<Figure size 432x288 with 1 Axes>"
            ]
          },
          "metadata": {
            "tags": [],
            "needs_background": "light"
          }
        }
      ]
    },
    {
      "cell_type": "code",
      "metadata": {
        "id": "pcxSlv4M-X2g",
        "colab_type": "code",
        "colab": {
          "base_uri": "https://localhost:8080/",
          "height": 400
        },
        "outputId": "7ed55267-2118-4f1c-af91-ff89b211f98d"
      },
      "source": [
        "univariada(times['Goals For (GF)'])"
      ],
      "execution_count": 26,
      "outputs": [
        {
          "output_type": "stream",
          "text": [
            "Resumo:\n",
            "Número de observações não nulas: 27 | Média: 226.2551440329218 | Desvio Padrão: 15.248303030606866 | Assimetria: -0.4045125888556215 | Curtose: 0.5456686893548581\n",
            "Mínimo: 187.33333333333334 | Primeiro Quartil: 217.33333333333331 | Mediana: 225.22222222222223 | Terceiro Quartil: 237.55555555555554 | Percentil 90: 241.7111111111111 | Máximo: 257.6666666666667\n",
            "H0 não rejeitado: Não há evidência de que a distribuição não seja normal - vamos considerar normal\n",
            "P-valor do teste de Kolmogorov–Smirnov: 0.9663424460622655\n"
          ],
          "name": "stdout"
        },
        {
          "output_type": "display_data",
          "data": {
            "image/png": "[encoded data removed]",
            "text/plain": [
              "<Figure size 432x288 with 1 Axes>"
            ]
          },
          "metadata": {
            "tags": [],
            "needs_background": "light"
          }
        }
      ]
    },
    {
      "cell_type": "markdown",
      "metadata": {
        "id": "EQz9YEqr-c7J",
        "colab_type": "text"
      },
      "source": [
        "Interessante.... <br>\n",
        "Quando agrupamos por time, ambas assimetrias ficam negativas (mediana maior que média). GF perde a falta de normalidade. Isso me sugere que talvez a interação entre time e temporada possa ter uma influência. Intuitivamente, isso poderia fazer sentido... Pensando num exemplo mais próximo, no futebol um certo time pode estar \"bem\" em um ano e \"mal\" no outro <br>\n",
        "Infelizmente 😪 temos muitas combinações de anos e times, o que faz com que esse dataset em específico não possua observações o suficiente para montar um design fatorial. Não podemos calcular o efeito de interação entre Ano e Time 😓😓😓😓. No máximo dá pra ver se time e ano (enquanto efeitos principais) tem influência."
      ]
    },
    {
      "cell_type": "code",
      "metadata": {
        "id": "lxTG5aXLbUXe",
        "colab_type": "code",
        "colab": {
          "base_uri": "https://localhost:8080/",
          "height": 34
        },
        "outputId": "49f65570-6d4e-42f6-e369-daf8350f7a5a"
      },
      "source": [
        "anova_df = hockey_completo[['Goals For (GF)', 'Goals Against (GA)', 'Year', 'Team']]\n",
        "anova_df = anova_df.astype({'Year': 'category', 'Team': 'category'})\n",
        "anova_df = anova_df.rename({'Goals For (GF)': 'GF', 'Goals Against (GA)': 'GA'}, axis='columns')\n",
        "anova_df = anova_df.dropna()\n",
        "anova_df.columns"
      ],
      "execution_count": 27,
      "outputs": [
        {
          "output_type": "execute_result",
          "data": {
            "text/plain": [
              "Index(['GF', 'GA', 'Year', 'Team'], dtype='object')"
            ]
          },
          "metadata": {
            "tags": []
          },
          "execution_count": 27
        }
      ]
    },
    {
      "cell_type": "markdown",
      "metadata": {
        "id": "3iolsl5rcNv8",
        "colab_type": "text"
      },
      "source": [
        "**Para o GA** <br>\n",
        "Usando 1-way ANOVA (paramétrico)"
      ]
    },
    {
      "cell_type": "code",
      "metadata": {
        "id": "Mdz17iBIbII0",
        "colab_type": "code",
        "colab": {
          "base_uri": "https://localhost:8080/",
          "height": 165
        },
        "outputId": "495fa313-bcb0-48d2-b765-928c4cd5e435"
      },
      "source": [
        "model = ols('GA ~ C(Year)', data=anova_df).fit()\n",
        "aov_table = sm.stats.anova_lm(model, typ=2)\n",
        "aov_table"
      ],
      "execution_count": 28,
      "outputs": [
        {
          "output_type": "stream",
          "text": [
            "/usr/local/lib/python3.6/dist-packages/statsmodels/base/model.py:1752: ValueWarning: covariance of constraints does not have full rank. The number of constraints is 21, but rank is 9\n",
            "  'rank is %d' % (J, J_), ValueWarning)\n"
          ],
          "name": "stderr"
        },
        {
          "output_type": "execute_result",
          "data": {
            "text/html": [
              "<div>\n",
              "<style scoped>\n",
              "    .dataframe tbody tr th:only-of-type {\n",
              "        vertical-align: middle;\n",
              "    }\n",
              "\n",
              "    .dataframe tbody tr th {\n",
              "        vertical-align: top;\n",
              "    }\n",
              "\n",
              "    .dataframe thead th {\n",
              "        text-align: right;\n",
              "    }\n",
              "</style>\n",
              "<table border=\"1\" class=\"dataframe\">\n",
              "  <thead>\n",
              "    <tr style=\"text-align: right;\">\n",
              "      <th></th>\n",
              "      <th>sum_sq</th>\n",
              "      <th>df</th>\n",
              "      <th>F</th>\n",
              "      <th>PR(&gt;F)</th>\n",
              "    </tr>\n",
              "  </thead>\n",
              "  <tbody>\n",
              "    <tr>\n",
              "      <th>C(Year)</th>\n",
              "      <td>2.827246e+07</td>\n",
              "      <td>21.0</td>\n",
              "      <td>2028.196299</td>\n",
              "      <td>3.469688e-212</td>\n",
              "    </tr>\n",
              "    <tr>\n",
              "      <th>Residual</th>\n",
              "      <td>1.513454e+05</td>\n",
              "      <td>228.0</td>\n",
              "      <td>NaN</td>\n",
              "      <td>NaN</td>\n",
              "    </tr>\n",
              "  </tbody>\n",
              "</table>\n",
              "</div>"
            ],
            "text/plain": [
              "                sum_sq     df            F         PR(>F)\n",
              "C(Year)   2.827246e+07   21.0  2028.196299  3.469688e-212\n",
              "Residual  1.513454e+05  228.0          NaN            NaN"
            ]
          },
          "metadata": {
            "tags": []
          },
          "execution_count": 28
        }
      ]
    },
    {
      "cell_type": "code",
      "metadata": {
        "id": "a1jHGe1nccv4",
        "colab_type": "code",
        "colab": {
          "base_uri": "https://localhost:8080/",
          "height": 165
        },
        "outputId": "fbfba305-55d8-4b31-9e47-461484fb259e"
      },
      "source": [
        "model = ols('GA ~ C(Team)', data=anova_df).fit()\n",
        "aov_table = sm.stats.anova_lm(model, typ=2)\n",
        "aov_table"
      ],
      "execution_count": 29,
      "outputs": [
        {
          "output_type": "stream",
          "text": [
            "/usr/local/lib/python3.6/dist-packages/statsmodels/base/model.py:1752: ValueWarning: covariance of constraints does not have full rank. The number of constraints is 28, but rank is 26\n",
            "  'rank is %d' % (J, J_), ValueWarning)\n"
          ],
          "name": "stderr"
        },
        {
          "output_type": "execute_result",
          "data": {
            "text/html": [
              "<div>\n",
              "<style scoped>\n",
              "    .dataframe tbody tr th:only-of-type {\n",
              "        vertical-align: middle;\n",
              "    }\n",
              "\n",
              "    .dataframe tbody tr th {\n",
              "        vertical-align: top;\n",
              "    }\n",
              "\n",
              "    .dataframe thead th {\n",
              "        text-align: right;\n",
              "    }\n",
              "</style>\n",
              "<table border=\"1\" class=\"dataframe\">\n",
              "  <thead>\n",
              "    <tr style=\"text-align: right;\">\n",
              "      <th></th>\n",
              "      <th>sum_sq</th>\n",
              "      <th>df</th>\n",
              "      <th>F</th>\n",
              "      <th>PR(&gt;F)</th>\n",
              "    </tr>\n",
              "  </thead>\n",
              "  <tbody>\n",
              "    <tr>\n",
              "      <th>C(Team)</th>\n",
              "      <td>52064.502002</td>\n",
              "      <td>28.0</td>\n",
              "      <td>2.990558</td>\n",
              "      <td>0.000007</td>\n",
              "    </tr>\n",
              "    <tr>\n",
              "      <th>Residual</th>\n",
              "      <td>130572.222222</td>\n",
              "      <td>210.0</td>\n",
              "      <td>NaN</td>\n",
              "      <td>NaN</td>\n",
              "    </tr>\n",
              "  </tbody>\n",
              "</table>\n",
              "</div>"
            ],
            "text/plain": [
              "                 sum_sq     df         F    PR(>F)\n",
              "C(Team)    52064.502002   28.0  2.990558  0.000007\n",
              "Residual  130572.222222  210.0       NaN       NaN"
            ]
          },
          "metadata": {
            "tags": []
          },
          "execution_count": 29
        }
      ]
    },
    {
      "cell_type": "markdown",
      "metadata": {
        "id": "8G0SfyXTd7Bf",
        "colab_type": "text"
      },
      "source": [
        "No caso de gols tomados, obtemos p-valores baixos, o que quer dizer que existe diferenciação da média de gols tomados tanto por ano quanto por time.\n",
        "<br>\n",
        "Podemos observar isso de forma mais explícita nos gráficos abaixo."
      ]
    },
    {
      "cell_type": "code",
      "metadata": {
        "id": "3ahWpMYHePbk",
        "colab_type": "code",
        "colab": {
          "base_uri": "https://localhost:8080/",
          "height": 279
        },
        "outputId": "8d24fc1f-d71c-4f72-ccd6-58f525e7c217"
      },
      "source": [
        "ax = sns.lineplot(x =hockey_completo[\"Year\"],y=hockey_completo[\"Goals Against (GA)\"])"
      ],
      "execution_count": 30,
      "outputs": [
        {
          "output_type": "display_data",
          "data": {
            "image/png": "[encoded data removed]",
            "text/plain": [
              "<Figure size 432x288 with 1 Axes>"
            ]
          },
          "metadata": {
            "tags": [],
            "needs_background": "light"
          }
        }
      ]
    },
    {
      "cell_type": "markdown",
      "metadata": {
        "id": "Da6nY74QkAnN",
        "colab_type": "text"
      },
      "source": [
        "Os anos fazem diferença e...."
      ]
    },
    {
      "cell_type": "code",
      "metadata": {
        "id": "6sQMjQXRi5zt",
        "colab_type": "code",
        "colab": {
          "base_uri": "https://localhost:8080/",
          "height": 297
        },
        "outputId": "3033671f-8b5c-468a-e556-0719551b8a72"
      },
      "source": [
        "sns.boxplot(\n",
        "    data=hockey_completo,\n",
        "    x='Goals Against (GA)',\n",
        "    y='Team')"
      ],
      "execution_count": 31,
      "outputs": [
        {
          "output_type": "execute_result",
          "data": {
            "text/plain": [
              "<matplotlib.axes._subplots.AxesSubplot at 0x7fb4a0173390>"
            ]
          },
          "metadata": {
            "tags": []
          },
          "execution_count": 31
        },
        {
          "output_type": "display_data",
          "data": {
            "image/png": "[encoded data removed]",
            "text/plain": [
              "<Figure size 432x288 with 1 Axes>"
            ]
          },
          "metadata": {
            "tags": [],
            "needs_background": "light"
          }
        }
      ]
    },
    {
      "cell_type": "markdown",
      "metadata": {
        "id": "b1ooB5FWkC78",
        "colab_type": "text"
      },
      "source": [
        "... alguns times claramente são piores do que outros, levando mais gols."
      ]
    },
    {
      "cell_type": "markdown",
      "metadata": {
        "id": "lxACOGfrcuAf",
        "colab_type": "text"
      },
      "source": [
        "**Para o GF** <br>\n",
        "Usando Kruskal-Wally (não paramétrico)"
      ]
    },
    {
      "cell_type": "code",
      "metadata": {
        "id": "290cIxi5ctPD",
        "colab_type": "code",
        "colab": {}
      },
      "source": [
        "def faz_kruskal(target, fator):\n",
        "  niveis = fator.unique()\n",
        "  dfs = []\n",
        "  for nivel in niveis:\n",
        "    df = fator[fator == nivel]\n",
        "    dfs.append(df)\n",
        "  return stats.kruskal(*dfs)"
      ],
      "execution_count": 32,
      "outputs": []
    },
    {
      "cell_type": "code",
      "metadata": {
        "id": "i-hGeof5kOp4",
        "colab_type": "code",
        "colab": {
          "base_uri": "https://localhost:8080/",
          "height": 34
        },
        "outputId": "cc6d4a04-7464-4905-841c-0cd9eac50203"
      },
      "source": [
        "faz_kruskal(anova_df['GF'], anova_df['Year'])"
      ],
      "execution_count": 33,
      "outputs": [
        {
          "output_type": "execute_result",
          "data": {
            "text/plain": [
              "KruskalResult(statistic=235.9999999999999, pvalue=1.591597615546794e-46)"
            ]
          },
          "metadata": {
            "tags": []
          },
          "execution_count": 33
        }
      ]
    },
    {
      "cell_type": "code",
      "metadata": {
        "id": "pZZk2RMsk23a",
        "colab_type": "code",
        "colab": {
          "base_uri": "https://localhost:8080/",
          "height": 34
        },
        "outputId": "7518e95f-5f8c-4f10-c903-cd19d279db4c"
      },
      "source": [
        "faz_kruskal(anova_df['GF'], anova_df['Team'])"
      ],
      "execution_count": 34,
      "outputs": [
        {
          "output_type": "execute_result",
          "data": {
            "text/plain": [
              "KruskalResult(statistic=235.9999999999999, pvalue=9.585620757974422e-36)"
            ]
          },
          "metadata": {
            "tags": []
          },
          "execution_count": 34
        }
      ]
    },
    {
      "cell_type": "markdown",
      "metadata": {
        "id": "adI2Y3sHk6Fd",
        "colab_type": "text"
      },
      "source": [
        "Novamente, ambos fatores se mostraram ter diferenças quanto ao numero de gols, nesse caso marcados.\n"
      ]
    },
    {
      "cell_type": "code",
      "metadata": {
        "id": "5Hcm-kJolJhO",
        "colab_type": "code",
        "colab": {
          "base_uri": "https://localhost:8080/",
          "height": 279
        },
        "outputId": "ab6d349a-e216-4733-f0bd-317bb450b63d"
      },
      "source": [
        "ax = sns.lineplot(x =hockey_completo[\"Year\"],y=hockey_completo[\"Goals For (GF)\"])"
      ],
      "execution_count": 35,
      "outputs": [
        {
          "output_type": "display_data",
          "data": {
            "image/png": "[encoded data removed]",
            "text/plain": [
              "<Figure size 432x288 with 1 Axes>"
            ]
          },
          "metadata": {
            "tags": [],
            "needs_background": "light"
          }
        }
      ]
    },
    {
      "cell_type": "markdown",
      "metadata": {
        "id": "6d-joL0cl2ID",
        "colab_type": "text"
      },
      "source": [
        "Como esperado, o lineplot é igual ao gols marcados contra"
      ]
    },
    {
      "cell_type": "code",
      "metadata": {
        "id": "l3onSQkomBY0",
        "colab_type": "code",
        "colab": {
          "base_uri": "https://localhost:8080/",
          "height": 297
        },
        "outputId": "81338e9c-4405-470a-e053-1bcff683fe88"
      },
      "source": [
        "sns.boxplot(\n",
        "    data=hockey_completo,\n",
        "    x='Goals For (GF)',\n",
        "    y='Team')"
      ],
      "execution_count": 36,
      "outputs": [
        {
          "output_type": "execute_result",
          "data": {
            "text/plain": [
              "<matplotlib.axes._subplots.AxesSubplot at 0x7fb473248cf8>"
            ]
          },
          "metadata": {
            "tags": []
          },
          "execution_count": 36
        },
        {
          "output_type": "display_data",
          "data": {
            "image/png": "[encoded data removed]",
            "text/plain": [
              "<Figure size 432x288 with 1 Axes>"
            ]
          },
          "metadata": {
            "tags": [],
            "needs_background": "light"
          }
        }
      ]
    },
    {
      "cell_type": "markdown",
      "metadata": {
        "id": "5VeDhtuN3s9C",
        "colab_type": "text"
      },
      "source": [
        "### Avaliando Torcedores"
      ]
    },
    {
      "cell_type": "code",
      "metadata": {
        "id": "GQeWUT4NuPkN",
        "colab_type": "code",
        "colab": {
          "base_uri": "https://localhost:8080/",
          "height": 380
        },
        "outputId": "eb33ad8d-77a6-4a70-e915-312c2ec91f91"
      },
      "source": [
        "univariada(hockey_completo['Home Average'])"
      ],
      "execution_count": 37,
      "outputs": [
        {
          "output_type": "stream",
          "text": [
            "Resumo:\n",
            "Número de observações não nulas: 290 | Média: 17012.513793103448 | Desvio Padrão: 2177.9020987436984 | Assimetria: -0.2587739328822026 | Curtose: -0.3845212921154193\n",
            "Mínimo: 11059.0 | Primeiro Quartil: 15433.0 | Mediana: 17210.5 | Terceiro Quartil: 18566.0 | Percentil 90: 19557.3 | Máximo: 22247.0\n",
            "H0 não rejeitado: Não há evidência de que a distribuição não seja normal - vamos considerar normal\n",
            "P-valor do teste de Kolmogorov–Smirnov: 0.15667225683835714\n"
          ],
          "name": "stdout"
        },
        {
          "output_type": "display_data",
          "data": {
            "image/png": "[encoded data removed]",
            "text/plain": [
              "<Figure size 432x288 with 1 Axes>"
            ]
          },
          "metadata": {
            "tags": [],
            "needs_background": "light"
          }
        }
      ]
    },
    {
      "cell_type": "code",
      "metadata": {
        "id": "0kc7mYBS1FIh",
        "colab_type": "code",
        "colab": {
          "base_uri": "https://localhost:8080/",
          "height": 380
        },
        "outputId": "c4fc9b8b-ddb2-43c0-9699-79684cc90da5"
      },
      "source": [
        "univariada(hockey_completo['Home Total'])"
      ],
      "execution_count": 38,
      "outputs": [
        {
          "output_type": "stream",
          "text": [
            "Resumo:\n",
            "Número de observações não nulas: 290 | Média: 696862.8275862068 | Desvio Padrão: 89095.44144928423 | Assimetria: -0.26653271904829196 | Curtose: -0.36577301532088935\n",
            "Mínimo: 453456.0 | Primeiro Quartil: 632779.75 | Mediana: 703766.0 | Terceiro Quartil: 760915.0 | Percentil 90: 801851.0 | Máximo: 912155.0\n",
            "H0 não rejeitado: Não há evidência de que a distribuição não seja normal - vamos considerar normal\n",
            "P-valor do teste de Kolmogorov–Smirnov: 0.2098426542132153\n"
          ],
          "name": "stdout"
        },
        {
          "output_type": "display_data",
          "data": {
            "image/png": "[encoded data removed]",
            "text/plain": [
              "<Figure size 432x288 with 1 Axes>"
            ]
          },
          "metadata": {
            "tags": [],
            "needs_background": "light"
          }
        }
      ]
    },
    {
      "cell_type": "code",
      "metadata": {
        "id": "0taR-tFE1L14",
        "colab_type": "code",
        "colab": {
          "base_uri": "https://localhost:8080/",
          "height": 380
        },
        "outputId": "f77061ba-ea2f-42de-f7c0-f9ad4a888be7"
      },
      "source": [
        "univariada(hockey_completo['Road Average'])"
      ],
      "execution_count": 39,
      "outputs": [
        {
          "output_type": "stream",
          "text": [
            "Resumo:\n",
            "Número de observações não nulas: 290 | Média: 16948.35172413793 | Desvio Padrão: 589.707739836118 | Assimetria: 0.1729538938777196 | Curtose: 0.11778464126782051\n",
            "Mínimo: 15575.0 | Primeiro Quartil: 16567.5 | Mediana: 16956.5 | Terceiro Quartil: 17317.0 | Percentil 90: 17707.800000000003 | Máximo: 19002.0\n",
            "H0 não rejeitado: Não há evidência de que a distribuição não seja normal - vamos considerar normal\n",
            "P-valor do teste de Kolmogorov–Smirnov: 0.8957441293276212\n"
          ],
          "name": "stdout"
        },
        {
          "output_type": "display_data",
          "data": {
            "image/png": "[encoded data removed]",
            "text/plain": [
              "<Figure size 432x288 with 1 Axes>"
            ]
          },
          "metadata": {
            "tags": [],
            "needs_background": "light"
          }
        }
      ]
    },
    {
      "cell_type": "code",
      "metadata": {
        "id": "5Kp7vDyn2C6o",
        "colab_type": "code",
        "colab": {
          "base_uri": "https://localhost:8080/",
          "height": 380
        },
        "outputId": "f8e657b1-2d03-447d-83e2-c51a4555995a"
      },
      "source": [
        "univariada(hockey_completo['Overall Average'])"
      ],
      "execution_count": 40,
      "outputs": [
        {
          "output_type": "stream",
          "text": [
            "Resumo:\n",
            "Número de observações não nulas: 290 | Média: 16980.43793103448 | Desvio Padrão: 1191.5516495328077 | Assimetria: -0.12323875460076678 | Curtose: -0.44819533631766717\n",
            "Mínimo: 14026.0 | Primeiro Quartil: 16096.0 | Mediana: 17018.5 | Terceiro Quartil: 17878.25 | Percentil 90: 18364.5 | Máximo: 19896.0\n",
            "H0 não rejeitado: Não há evidência de que a distribuição não seja normal - vamos considerar normal\n",
            "P-valor do teste de Kolmogorov–Smirnov: 0.41648462144005516\n"
          ],
          "name": "stdout"
        },
        {
          "output_type": "display_data",
          "data": {
            "image/png": "[encoded data removed]",
            "text/plain": [
              "<Figure size 432x288 with 1 Axes>"
            ]
          },
          "metadata": {
            "tags": [],
            "needs_background": "light"
          }
        }
      ]
    }
  ]
}